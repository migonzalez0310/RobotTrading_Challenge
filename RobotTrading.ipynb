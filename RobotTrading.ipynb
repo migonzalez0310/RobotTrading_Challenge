{
  "cells": [
    {
      "cell_type": "markdown",
      "metadata": {
        "id": "view-in-github",
        "colab_type": "text"
      },
      "source": [
        "<a href=\"https://colab.research.google.com/github/migonzalez0310/RobotTrading_Challenge/blob/main/RobotTrading.ipynb\" target=\"_parent\"><img src=\"https://colab.research.google.com/assets/colab-badge.svg\" alt=\"Open In Colab\"/></a>"
      ]
    },
    {
      "cell_type": "markdown",
      "metadata": {
        "id": "0W6j_y9CVVJm"
      },
      "source": [
        "# **Robot Trading - 1er Challenge** 🤖\n",
        "**Creado por Miguel Gonzalez**"
      ]
    },
    {
      "cell_type": "markdown",
      "metadata": {
        "id": "AVhOJPSpRJDP"
      },
      "source": [
        "## **1) Configuración del ambiente y Creación de variables globales**\n",
        "\n",
        "\n",
        "\n"
      ]
    },
    {
      "cell_type": "code",
      "execution_count": 17,
      "metadata": {
        "id": "xWhesz4C5KMi"
      },
      "outputs": [],
      "source": [
        "#Importar las librerias que usaremos para el challenge\n",
        "import pandas as pd\n",
        "import numpy as np\n",
        "import matplotlib.pyplot as plt\n",
        "import yfinance as yf\n",
        "import requests\n",
        "from bs4 import BeautifulSoup\n",
        "from IPython.display import clear_output\n",
        "import time\n",
        "\n",
        "#Creacion de las variables globales\n",
        "global df_bitcoin, precio_actual, tendencia, media_bitcoin,  algoritmo_decision"
      ]
    },
    {
      "cell_type": "markdown",
      "metadata": {
        "id": "yyPryp7kU69Q"
      },
      "source": [
        "## **2) Obtención de datos**"
      ]
    },
    {
      "cell_type": "markdown",
      "metadata": {
        "id": "rTGB7XblZRTl"
      },
      "source": [
        "*Crearemos la función importar_base_bitcoin() usando la biblioteca yfinance para obtener el historial de precios del Bitcoin en dólares (BTC-USD) de los últimos 7 días en intervalos de 5 minutos, almacenándolo en el dataframe df_bitcoin y redefiniendo variables globales.*"
      ]
    },
    {
      "cell_type": "code",
      "execution_count": 18,
      "metadata": {
        "id": "6xjoI384W_BF"
      },
      "outputs": [],
      "source": [
        "def importar_base_bitcoin():\n",
        "  #Definiendo variables globales en la funcion\n",
        "  global df_bitcoin\n",
        "  #Definiendo moneda a buscar\n",
        "  moneda ='BTC-USD'\n",
        "  df_bitcoin = yf.download(moneda, period='7d', interval='5m')\n",
        "  return df_bitcoin"
      ]
    },
    {
      "cell_type": "markdown",
      "metadata": {
        "id": "lL-D_Y60aLi0"
      },
      "source": [
        "*La función extraer_tendencias() realiza Web Scraping en CoinMarketCap para obtener el precio actual del Bitcoin en USD y su variación en la última hora. Almacena el precio como float en precio_actual y determina la tendencia si es Alta o Baja y la variacion en la ultima hora*"
      ]
    },
    {
      "cell_type": "code",
      "execution_count": 65,
      "metadata": {
        "id": "dCf1fZcE-9eb",
        "colab": {
          "base_uri": "https://localhost:8080/"
        },
        "outputId": "c34565eb-435a-4d85-95db-0def13e578fc"
      },
      "outputs": [
        {
          "output_type": "stream",
          "name": "stdout",
          "text": [
            "<span class=\"sc-6a54057-0 iEhQde\"><span class=\"icon-Caret-down\" style=\"width:12px;height:18px;display:inline-block\"></span>0.42%</span>\n",
            "['icon-Caret-down']\n"
          ]
        },
        {
          "output_type": "execute_result",
          "data": {
            "text/plain": [
              "(71463.58, 'Baja', 0.42)"
            ]
          },
          "metadata": {},
          "execution_count": 65
        }
      ],
      "source": [
        "def extraer_tendencias():\n",
        "        #Definiendo variables globales en la funcion\n",
        "        global  precio_actual, tendencia\n",
        "\n",
        "        # Definir la URL de la página de CoinMarketCap\n",
        "        url = 'https://coinmarketcap.com/'\n",
        "\n",
        "        # Realizar la solicitud GET a la página\n",
        "        response = requests.get(url)\n",
        "\n",
        "        # Verificar si la solicitud fue exitosa\n",
        "        if response.status_code == 200:\n",
        "            # Parsear el contenido HTML de la página\n",
        "            soup = BeautifulSoup(response.content, 'html.parser')\n",
        "\n",
        "            # Encontrar el elemento que contiene el precio actual del Bitcoin\n",
        "            bitcoin_price_element = soup.find('div', class_= ['sc-500f568e-0 ejtlWy', 'sc-500f568e-0 ejtlWy fall', 'sc-500f568e-0 ejtlWy rise'])\n",
        "\n",
        "\n",
        "            # Extraer el precio actual del Bitcoin y convertirlo a float\n",
        "            precio_actual = float(bitcoin_price_element.text.strip().split(\"$\")[1].replace(',', ''))\n",
        "\n",
        "            # Encontrar el elemento que contiene la variación de precio en la última hora\n",
        "            price_change_element = soup.find('span', class_= ['sc-6a54057-0 iEhQde', 'sc-6a54057-0 YXxPZ'])\n",
        "            print(price_change_element)\n",
        "\n",
        "            # Extraer la variación de precio en la última hora\n",
        "            variacion_1h = float(price_change_element.text.strip().split(\"%\")[0])\n",
        "\n",
        "            cual = price_change_element.find('span', class_=[\"icon-Caret-up\",\"icon-Caret-down\"])\n",
        "            print(cual.attrs['class'])\n",
        "\n",
        "            # Determinar la tendencia\n",
        "            if 'icon-Caret-up' in cual.attrs['class']:\n",
        "              tendencia = \"Alta\"\n",
        "            elif \"icon-Caret-down\" in cual.attrs['class']:\n",
        "              tendencia = \"Baja\"\n",
        "            else:\n",
        "              tendencia = None\n",
        "\n",
        "            # Devolver el precio actual y la tendencia\n",
        "            return precio_actual, tendencia, variacion_1h\n",
        "        else:\n",
        "            print(\"Error al conectar con la página\")\n",
        "            return None, None,None\n",
        "\n",
        "extraer_tendencias()"
      ]
    },
    {
      "cell_type": "markdown",
      "metadata": {
        "id": "1lFlUe47dg52"
      },
      "source": [
        "##**3) Limpieza de datos 🧹**\n",
        "\n"
      ]
    },
    {
      "cell_type": "markdown",
      "metadata": {
        "id": "0-GmoGtieGvf"
      },
      "source": [
        "La función limpieza_datos() crea una copia de df_bitcoin llamada df_bitcoin_limpio y realiza varias tareas de limpieza:\n",
        "\n",
        "1.   Elimina duplicados en el índice.\n",
        "1.   Trata los valores nulos en la columna Close.\n",
        "2.   Elimina registros con Volumen de transacción igual a 0.\n",
        "2.   Elimina outliers en el precio del Bitcoin usando un boxplot.\n",
        "1.   Filtra registros cuyo precio está entre el 1er y 3er cuartil del boxplot.\n",
        "2.   Calcula el precio promedio (Close) de la selección y lo guarda en media_bitcoin.\n",
        "\n",
        "\n",
        "\n"
      ]
    },
    {
      "cell_type": "code",
      "execution_count": 30,
      "metadata": {
        "id": "PRFEm9TLyOcs"
      },
      "outputs": [],
      "source": [
        "def limpieza_datos():\n",
        "    # Definiendo variables globales en la función\n",
        "    global df_bitcoin, media_bitcoin\n",
        "    df_bitcoin_limpio = importar_base_bitcoin()\n",
        "\n",
        "    # Eliminando los duplicados basados en el índice\n",
        "    df_bitcoin_limpio = df_bitcoin_limpio[~df_bitcoin_limpio.index.duplicated()]\n",
        "\n",
        "    # Tratando los datos nulos\n",
        "    # Buscar valores nulos en la columna \"Close\"\n",
        "    valores_nulos = df_bitcoin_limpio['Close'].isnull()\n",
        "\n",
        "    # Calcular el valor medio de la columna \"Close\"\n",
        "    valor_medio_close = df_bitcoin_limpio['Close'].mean()\n",
        "\n",
        "    # Rellenar los valores nulos con el valor medio de \"Close\"\n",
        "    # df_bitcoin_limpio['Close'].fillna(valor_medio_close\", inplace=True)\n",
        "\n",
        "    # Rellenar los valores nulos con el valor anterior de \"Close\"\n",
        "    df_bitcoin_limpio['Close'].fillna(method='bfill', inplace=True)\n",
        "\n",
        "\n",
        "    # Volumen de transacción > 0\n",
        "    # Crear una máscara booleana para identificar filas con volumen de transacción igual a 0\n",
        "    mascara = df_bitcoin_limpio['Volume'] == 0\n",
        "\n",
        "    # Eliminar las filas donde el volumen de transacción es igual a 0\n",
        "    df_bitcoin_limpio = df_bitcoin_limpio.loc[~mascara]\n",
        "\n",
        "    # Identificar y eliminar outliers en el precio del Bitcoin (columna Close)\n",
        "    Q1 = df_bitcoin_limpio['Close'].quantile(0.25)\n",
        "    Q3 = df_bitcoin_limpio['Close'].quantile(0.75)\n",
        "    # IQR = Q3 - Q1\n",
        "\n",
        "    # # Definir límites para identificar outliers\n",
        "    # lower_bound = Q1 - 1.5 * IQR\n",
        "    # upper_bound = Q3 + 1.5 * IQR\n",
        "\n",
        "    # Filtrar outliers\n",
        "    df_bitcoin_limpio = df_bitcoin_limpio[(df_bitcoin_limpio['Close'] >= Q1) & (df_bitcoin_limpio['Close'] <= Q3)]\n",
        "\n",
        "    # Graficar boxplot para identificar outliers\n",
        "    plt.figure(figsize=(8, 6))\n",
        "    plt.boxplot(df_bitcoin_limpio['Close'], vert=True)\n",
        "    plt.title('Boxplot del Precio del Bitcoin')\n",
        "    plt.xlabel('Precio del Bitcoin')\n",
        "    plt.show()\n",
        "\n",
        "    # Filtrar registros cuyo precio (Close) se encuentre entre el 1er cuartil (Q1) y el 3er cuartil (Q3)\n",
        "    df_seleccion = df_bitcoin_limpio[(df_bitcoin_limpio['Close'] >= Q1) & (df_bitcoin_limpio['Close'] <= Q3)]\n",
        "\n",
        "    # Calcular el precio promedio (Close) de esta selección\n",
        "    media_bitcoin = df_seleccion['Close'].mean()\n",
        "\n",
        "    return df_bitcoin_limpio, media_bitcoin"
      ]
    },
    {
      "cell_type": "markdown",
      "metadata": {
        "id": "xJJn_porgRim"
      },
      "source": [
        "## **4) Tomar decisiones**"
      ]
    },
    {
      "cell_type": "markdown",
      "metadata": {
        "id": "XPK_CYsVguZo"
      },
      "source": [
        "La función tomar_decisiones() determina la variable algoritmo_decision con base en un criterio de decisión:\n",
        "\n",
        "1. Si el precio actual es mayor o igual al precio promedio y la tendencia es baja, algoritmo_decision será 'Vender'.\n",
        "\n",
        "2. Si el precio actual es menor que el precio promedio y la tendencia es alta, algoritmo_decision será 'Comprar'.\n",
        "\n",
        "1. Si ninguna de las condiciones anteriores se cumple, algoritmo_decision será 'Esperar'.\n",
        "\n"
      ]
    },
    {
      "cell_type": "code",
      "execution_count": 31,
      "metadata": {
        "id": "LVOHWVjHRiG8"
      },
      "outputs": [],
      "source": [
        "def tomar_decisiones():\n",
        "  # Definiendo variables globales en la función\n",
        "  global precio_actual, tendencia, media_bitcoin, algoritmo_decision\n",
        "\n",
        "  if precio_actual >= media_bitcoin and tendencia == \"Baja\":\n",
        "    algoritmo_decision = 'Vender'\n",
        "  elif precio_actual < media_bitcoin and tendencia == \"Alta\":\n",
        "    algoritmo_decision = 'Comprar'\n",
        "  else:\n",
        "    algoritmo_decision = 'Esperar'\n",
        "\n",
        "  return algoritmo_decision"
      ]
    },
    {
      "cell_type": "markdown",
      "metadata": {
        "id": "eDlXbbMDh8i9"
      },
      "source": [
        "## **5) Visualización**"
      ]
    },
    {
      "cell_type": "markdown",
      "metadata": {
        "id": "xBUpKqMsin8v"
      },
      "source": [
        "La función visualizacion() agrega una columna \"Promedio\" al dataframe original df_bitcoin con el valor de media_bitcoin, configura el tamaño del gráfico a 16x5, agrega un título, traza una línea con los datos del índice y Close, otra con los datos del índice y Promedio, muestra un mensaje con la decisión del algoritmo usando annotate(), y muestra el gráfico en pantalla con show().\n",
        "\n",
        "\n",
        "\n",
        "\n",
        "\n",
        "\n"
      ]
    },
    {
      "cell_type": "code",
      "execution_count": 23,
      "metadata": {
        "id": "SSAlGhhXaLGo"
      },
      "outputs": [],
      "source": [
        "def visualizacion():\n",
        "    # Definir variables globales\n",
        "    global df_bitcoin, media_bitcoin, algoritmo_decision\n",
        "\n",
        "    # Agregar nueva columna \"Promedio\" al DataFrame original df_bitcoin\n",
        "    df_bitcoin['Promedio'] = media_bitcoin\n",
        "\n",
        "    # Configurar el tamaño del gráfico\n",
        "    plt.figure(figsize=(16, 5))\n",
        "\n",
        "    # Dibujar línea con los datos del índice y la columna \"Close\" de df_bitcoin\n",
        "    plt.plot(df_bitcoin.index, df_bitcoin['Close'], label='Precio de Bitcoin (Close)')\n",
        "\n",
        "    # Dibujar línea con los datos del índice y la columna \"Promedio\" de df_bitcoin\n",
        "    plt.plot(df_bitcoin.index, df_bitcoin['Promedio'], label='Promedio', linestyle='--')\n",
        "\n",
        "    # Configurar título y etiquetas de los ejes\n",
        "    plt.title('Precio del Bitcoin vs Promedio')\n",
        "    plt.xlabel('Fecha')\n",
        "    plt.ylabel('Precio')\n",
        "\n",
        "    # Mostrar mensaje con la decisión calculada del algoritmo\n",
        "    color = 'green' if algoritmo_decision == 'Vender' else 'blue' if algoritmo_decision == 'Comprar' else 'red'\n",
        "    plt.annotate(algoritmo_decision, xy=(df_bitcoin.index[-1], df_bitcoin['Close'].iloc[-1]), xytext=(-30, 50),\n",
        "                 textcoords='offset points', arrowprops=dict(facecolor=color, arrowstyle='->', connectionstyle='arc3,rad=.5'),\n",
        "                 fontsize=12, color=color, horizontalalignment='center', zorder=5)\n",
        "\n",
        "    # Mostrar leyenda\n",
        "    plt.legend()\n",
        "\n",
        "    # Mostrar el gráfico\n",
        "    plt.show()\n"
      ]
    },
    {
      "cell_type": "markdown",
      "metadata": {
        "id": "WUtfaDBBjM3T"
      },
      "source": [
        "## **Automatización**"
      ]
    },
    {
      "cell_type": "markdown",
      "metadata": {
        "id": "oj6wYJuQjdbh"
      },
      "source": [
        "Importa 'clear_output()' de 'IPython.display' para borrar resultados previos antes de imprimir un nuevo gráfico, y 'time' para pausar la ejecución del código cada 5 minutos. Luego, crea un bucle infinito que ejecuta las funciones importar_base_bitcoin(), extraer_tendencias(), limpieza_datos(), tomar_decisiones() y visualizacion() en intervalos de 5 minutos con time.sleep(300). Esto proporciona un gráfico en tiempo real del historial de precios del Bitcoin y la decisión del algoritmo.\n",
        "\n",
        "\n",
        "\n",
        "\n",
        "\n",
        "\n"
      ]
    },
    {
      "cell_type": "code",
      "execution_count": 24,
      "metadata": {
        "colab": {
          "base_uri": "https://localhost:8080/",
          "height": 443
        },
        "id": "ltWV9S1Xfjnb",
        "outputId": "86b2ff68-68a3-4ac4-d23b-d92fd0f62070"
      },
      "outputs": [
        {
          "output_type": "stream",
          "name": "stderr",
          "text": [
            "\r[*********************100%%**********************]  1 of 1 completed\n"
          ]
        },
        {
          "output_type": "error",
          "ename": "AttributeError",
          "evalue": "ResultSet object has no attribute 'text'. You're probably treating a list of elements like a single element. Did you call find_all() when you meant to call find()?",
          "traceback": [
            "\u001b[0;31m---------------------------------------------------------------------------\u001b[0m",
            "\u001b[0;31mAttributeError\u001b[0m                            Traceback (most recent call last)",
            "\u001b[0;32m<ipython-input-24-3578dddea1a5>\u001b[0m in \u001b[0;36m<cell line: 1>\u001b[0;34m()\u001b[0m\n\u001b[1;32m      2\u001b[0m   \u001b[0mclear_output\u001b[0m\u001b[0;34m(\u001b[0m\u001b[0;34m)\u001b[0m\u001b[0;34m\u001b[0m\u001b[0;34m\u001b[0m\u001b[0m\n\u001b[1;32m      3\u001b[0m   \u001b[0mimportar_base_bitcoin\u001b[0m\u001b[0;34m(\u001b[0m\u001b[0;34m)\u001b[0m\u001b[0;34m\u001b[0m\u001b[0;34m\u001b[0m\u001b[0m\n\u001b[0;32m----> 4\u001b[0;31m   \u001b[0mextraer_tendencias\u001b[0m\u001b[0;34m(\u001b[0m\u001b[0;34m)\u001b[0m\u001b[0;34m\u001b[0m\u001b[0;34m\u001b[0m\u001b[0m\n\u001b[0m\u001b[1;32m      5\u001b[0m   \u001b[0mlimpieza_datos\u001b[0m\u001b[0;34m(\u001b[0m\u001b[0;34m)\u001b[0m\u001b[0;34m\u001b[0m\u001b[0;34m\u001b[0m\u001b[0m\n\u001b[1;32m      6\u001b[0m   \u001b[0mtomar_decisiones\u001b[0m\u001b[0;34m(\u001b[0m\u001b[0;34m)\u001b[0m\u001b[0;34m\u001b[0m\u001b[0;34m\u001b[0m\u001b[0m\n",
            "\u001b[0;32m<ipython-input-20-9409e214f9c3>\u001b[0m in \u001b[0;36mextraer_tendencias\u001b[0;34m()\u001b[0m\n\u001b[1;32m     19\u001b[0m \u001b[0;34m\u001b[0m\u001b[0m\n\u001b[1;32m     20\u001b[0m             \u001b[0;31m# Extraer el precio actual del Bitcoin y convertirlo a float\u001b[0m\u001b[0;34m\u001b[0m\u001b[0;34m\u001b[0m\u001b[0m\n\u001b[0;32m---> 21\u001b[0;31m             \u001b[0mprecio_actual\u001b[0m \u001b[0;34m=\u001b[0m \u001b[0mfloat\u001b[0m\u001b[0;34m(\u001b[0m\u001b[0mbitcoin_price_element\u001b[0m\u001b[0;34m.\u001b[0m\u001b[0mtext\u001b[0m\u001b[0;34m.\u001b[0m\u001b[0mstrip\u001b[0m\u001b[0;34m(\u001b[0m\u001b[0;34m)\u001b[0m\u001b[0;34m.\u001b[0m\u001b[0msplit\u001b[0m\u001b[0;34m(\u001b[0m\u001b[0;34m\"$\"\u001b[0m\u001b[0;34m)\u001b[0m\u001b[0;34m[\u001b[0m\u001b[0;36m1\u001b[0m\u001b[0;34m]\u001b[0m\u001b[0;34m.\u001b[0m\u001b[0mreplace\u001b[0m\u001b[0;34m(\u001b[0m\u001b[0;34m','\u001b[0m\u001b[0;34m,\u001b[0m \u001b[0;34m''\u001b[0m\u001b[0;34m)\u001b[0m\u001b[0;34m)\u001b[0m\u001b[0;34m\u001b[0m\u001b[0;34m\u001b[0m\u001b[0m\n\u001b[0m\u001b[1;32m     22\u001b[0m \u001b[0;34m\u001b[0m\u001b[0m\n\u001b[1;32m     23\u001b[0m             \u001b[0;31m# Encontrar el elemento que contiene la variación de precio en la última hora\u001b[0m\u001b[0;34m\u001b[0m\u001b[0;34m\u001b[0m\u001b[0m\n",
            "\u001b[0;32m/usr/local/lib/python3.10/dist-packages/bs4/element.py\u001b[0m in \u001b[0;36m__getattr__\u001b[0;34m(self, key)\u001b[0m\n\u001b[1;32m   2431\u001b[0m     \u001b[0;32mdef\u001b[0m \u001b[0m__getattr__\u001b[0m\u001b[0;34m(\u001b[0m\u001b[0mself\u001b[0m\u001b[0;34m,\u001b[0m \u001b[0mkey\u001b[0m\u001b[0;34m)\u001b[0m\u001b[0;34m:\u001b[0m\u001b[0;34m\u001b[0m\u001b[0;34m\u001b[0m\u001b[0m\n\u001b[1;32m   2432\u001b[0m         \u001b[0;34m\"\"\"Raise a helpful exception to explain a common code fix.\"\"\"\u001b[0m\u001b[0;34m\u001b[0m\u001b[0;34m\u001b[0m\u001b[0m\n\u001b[0;32m-> 2433\u001b[0;31m         raise AttributeError(\n\u001b[0m\u001b[1;32m   2434\u001b[0m             \u001b[0;34m\"ResultSet object has no attribute '%s'. You're probably treating a list of elements like a single element. Did you call find_all() when you meant to call find()?\"\u001b[0m \u001b[0;34m%\u001b[0m \u001b[0mkey\u001b[0m\u001b[0;34m\u001b[0m\u001b[0;34m\u001b[0m\u001b[0m\n\u001b[1;32m   2435\u001b[0m         )\n",
            "\u001b[0;31mAttributeError\u001b[0m: ResultSet object has no attribute 'text'. You're probably treating a list of elements like a single element. Did you call find_all() when you meant to call find()?"
          ]
        }
      ],
      "source": [
        "while(True):\n",
        "  clear_output()\n",
        "  importar_base_bitcoin()\n",
        "  extraer_tendencias()\n",
        "  limpieza_datos()\n",
        "  tomar_decisiones()\n",
        "  visualizacion()\n",
        "  time.sleep(60)"
      ]
    }
  ],
  "metadata": {
    "colab": {
      "provenance": [],
      "authorship_tag": "ABX9TyMh0IbYEoD1XzAkuE9k8AV3",
      "include_colab_link": true
    },
    "kernelspec": {
      "display_name": "Python 3",
      "name": "python3"
    },
    "language_info": {
      "name": "python"
    }
  },
  "nbformat": 4,
  "nbformat_minor": 0
}